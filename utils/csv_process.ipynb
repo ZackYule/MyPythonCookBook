{
 "cells": [
  {
   "cell_type": "markdown",
   "metadata": {},
   "source": [
    "# csv&xlsx 处理代码"
   ]
  },
  {
   "cell_type": "markdown",
   "metadata": {},
   "source": [
    "### 初始设定"
   ]
  },
  {
   "cell_type": "code",
   "execution_count": 9,
   "metadata": {},
   "outputs": [],
   "source": [
    "import sys\n",
    "import os\n",
    "import openpyxl\n",
    "import csv\n",
    "import re\n",
    "from loguru import logger\n",
    "logger.remove()\n",
    "handler_id = logger.add(sys.stderr, level=\"DEBUG\")"
   ]
  },
  {
   "cell_type": "markdown",
   "metadata": {},
   "source": [
    "### csv读取"
   ]
  },
  {
   "cell_type": "markdown",
   "metadata": {},
   "source": [
    "##### 按列读取"
   ]
  },
  {
   "cell_type": "code",
   "execution_count": 10,
   "metadata": {},
   "outputs": [],
   "source": [
    "def get_column_info_info_from_csv(file_path:str, column_num:int)->list[dict]:\n",
    "    if not os.path.isfile(file_path):\n",
    "        logger.debug(file_path)\n",
    "        logger.info('没有找到读取文件')\n",
    "        return []\n",
    "        \n",
    "    items = []\n",
    "    with open(file_path, 'r', encoding='utf-8-sig', newline='') as f:\n",
    "        reader = csv.reader(f)\n",
    "        is_first_read = True\n",
    "        for row in reader:\n",
    "            if is_first_read:\n",
    "                is_first_read = False\n",
    "                continue\n",
    "            items.append(row[column_num])\n",
    "    return items"
   ]
  },
  {
   "cell_type": "markdown",
   "metadata": {},
   "source": [
    "##### 全部读取"
   ]
  },
  {
   "cell_type": "code",
   "execution_count": 11,
   "metadata": {},
   "outputs": [],
   "source": [
    "def get_content_info_from_csv(file_path:str)->list[dict]:\n",
    "    if not os.path.isfile(file_path):\n",
    "        logger.info('没有找到读取文件')\n",
    "        return []\n",
    "    \n",
    "    items = []\n",
    "    with open(file_path, 'r', encoding='utf-8-sig', newline='') as f:\n",
    "        reader = csv.DictReader(f)\n",
    "        for row in reader:\n",
    "            items.append(row)\n",
    "    return items"
   ]
  },
  {
   "cell_type": "markdown",
   "metadata": {},
   "source": [
    "##### 测试"
   ]
  },
  {
   "cell_type": "code",
   "execution_count": 12,
   "metadata": {},
   "outputs": [
    {
     "name": "stdout",
     "output_type": "stream",
     "text": [
      "['2175447907']\n",
      "1\n"
     ]
    }
   ],
   "source": [
    "title = \"测试一下\" \n",
    "content_type = \"的知乎回答表\"\n",
    "base_dir = '..' + os.sep + 'resource'\n",
    "file_path = base_dir + os.sep + title + content_type + '.csv'\n",
    "id_list = get_column_info_info_from_csv(file_path, 7)\n",
    "item_list = get_content_info_from_csv(file_path)\n",
    "print(id_list)\n",
    "print(len(item_list))"
   ]
  },
  {
   "cell_type": "markdown",
   "metadata": {},
   "source": [
    "### csv 写入"
   ]
  },
  {
   "cell_type": "code",
   "execution_count": 13,
   "metadata": {},
   "outputs": [],
   "source": [
    "def csv_pipeline(item:dict, keyword:str, content_type:str, header:list[str]):\n",
    "    base_dir = '结果文件' + os.sep + keyword\n",
    "    file_path = base_dir + os.sep + keyword + content_type + '.csv'\n",
    "\n",
    "    if not os.path.isdir(base_dir):\n",
    "        os.makedirs(base_dir)\n",
    "    if not os.path.isfile(file_path):\n",
    "        is_first_write = 1\n",
    "    else:\n",
    "        is_first_write = 0\n",
    "        \n",
    "    if item:\n",
    "        with open(file_path, 'a', encoding='utf-8-sig', newline='') as f:\n",
    "            writer = csv.writer(f)\n",
    "            if is_first_write:\n",
    "                if header:\n",
    "                    writer.writerow(header)\n",
    "            writer.writerow([item[key] for key in item.keys()])"
   ]
  },
  {
   "cell_type": "markdown",
   "metadata": {},
   "source": [
    "### csv wash"
   ]
  },
  {
   "cell_type": "code",
   "execution_count": 26,
   "metadata": {},
   "outputs": [],
   "source": [
    "def del_tag(string):\n",
    "    tag_del_patten = re.compile(r'<.*?>')\n",
    "    res = tag_del_patten.sub('', string)\n",
    "    res = res.replace('\\u3000', '')\n",
    "    return res\n",
    "\n",
    "\n",
    "def single_line_process(string_list, string_process_func):\n",
    "    res = []\n",
    "    for string in string_list:\n",
    "        new_string = string_process_func(string)\n",
    "        res.append(new_string)\n",
    "    return res\n",
    "\n",
    "\n",
    "def write_new_csv(old_file_path, new_row_list):\n",
    "    file_path = old_file_path + '_new.csv'\n",
    "    with open(file_path, 'a', encoding='utf-8-sig', newline='') as csvfile:\n",
    "        spamwriter = csv.writer(csvfile)\n",
    "        spamwriter.writerow(new_row_list)\n",
    "\n",
    "\n",
    "def csv_transformer(file_path:str, string_process_func):\n",
    "    with open(file_path, encoding='utf-8-sig', newline='') as csvfile:\n",
    "        spamreader = csv.reader(csvfile)\n",
    "        for row in spamreader:\n",
    "            new_row = single_line_process(row, string_process_func)\n",
    "            write_new_csv(title, new_row)"
   ]
  },
  {
   "cell_type": "markdown",
   "metadata": {},
   "source": [
    "##### 实验运行"
   ]
  },
  {
   "cell_type": "code",
   "execution_count": 28,
   "metadata": {},
   "outputs": [],
   "source": [
    "file_path = '../resource' + os.sep + '十九届六中全会的知乎专栏文章表' + '.csv'\n",
    "csv_transformer(file_path, del_tag)"
   ]
  },
  {
   "cell_type": "markdown",
   "metadata": {},
   "source": [
    "### xlsx 表格 读取"
   ]
  },
  {
   "cell_type": "code",
   "execution_count": 29,
   "metadata": {},
   "outputs": [],
   "source": [
    "def get_content_from_xlsx(file_path:str, sheet_name:str,column_num:int):\n",
    "    # excel表格对象 与 sheet对象\n",
    "    xlsx_el = openpyxl.load_workbook(file_path)\n",
    "    sheet_el = xlsx_el[sheet_name]\n",
    "    # 读取\n",
    "    result = []\n",
    "    row_num = sheet_el.max_row\n",
    "    for i in range(row_num):\n",
    "        target_value = sheet_el.cell(row=i+1, column=column_num).value\n",
    "        if target_value:\n",
    "            result.append(target_value)\n",
    "    \n",
    "    xlsx_el.close()\n",
    "    return result"
   ]
  },
  {
   "cell_type": "markdown",
   "metadata": {},
   "source": [
    "##### 测试"
   ]
  },
  {
   "cell_type": "code",
   "execution_count": 30,
   "metadata": {},
   "outputs": [
    {
     "name": "stdout",
     "output_type": "stream",
     "text": [
      "['领事闲谈', '汇跑赛事', '张蛋蛋的酒窝没有酒', '-冰淇淋流泪', '最优生记录本', '跳大海乐队', 'Justin黄明昊的宣宣', '王俊凯官后陕西分会', '杯羹文史']\n"
     ]
    }
   ],
   "source": [
    "file_path = '..' + os.sep + 'resource' + os.sep + 'weibo.xlsx'\n",
    "sheet_name = 'weibo'\n",
    "res = get_content_from_xlsx(file_path, sheet_name, 1)\n",
    "print(res[1:10])"
   ]
  }
 ],
 "metadata": {
  "kernelspec": {
   "display_name": "Python 3.10.0 64-bit ('MyPythonCookBook')",
   "language": "python",
   "name": "python3"
  },
  "language_info": {
   "codemirror_mode": {
    "name": "ipython",
    "version": 3
   },
   "file_extension": ".py",
   "mimetype": "text/x-python",
   "name": "python",
   "nbconvert_exporter": "python",
   "pygments_lexer": "ipython3",
   "version": "3.10.0"
  },
  "orig_nbformat": 4,
  "vscode": {
   "interpreter": {
    "hash": "3fd94ad29e5972f241a5eb1cd557eb6db7e6ede88c59db58ac846d042ec14177"
   }
  }
 },
 "nbformat": 4,
 "nbformat_minor": 2
}
