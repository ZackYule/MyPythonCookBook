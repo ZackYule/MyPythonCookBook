{
 "cells": [
  {
   "cell_type": "markdown",
   "metadata": {},
   "source": [
    "# 数据处理相关工具函数"
   ]
  },
  {
   "cell_type": "markdown",
   "metadata": {},
   "source": [
    "### 导入库"
   ]
  },
  {
   "cell_type": "code",
   "execution_count": 12,
   "metadata": {},
   "outputs": [],
   "source": [
    "import numpy as np\n",
    "from collections import Counter   #引入Counter"
   ]
  },
  {
   "cell_type": "markdown",
   "metadata": {},
   "source": [
    "### 重复数据查找，并输出数据重复次数"
   ]
  },
  {
   "cell_type": "code",
   "execution_count": 19,
   "metadata": {},
   "outputs": [],
   "source": [
    "def find_duplicate_data(data_list):\n",
    "    data_np = np.array(data_list)\n",
    "    data_flat_list= data_np.flatten()\n",
    "    data_count_dict = dict(Counter(data_flat_list))\n",
    "    for key in list(data_count_dict.keys()):\n",
    "        if data_count_dict[key] <= 1:\n",
    "            data_count_dict.pop(key)\n",
    "    return data_count_dict       "
   ]
  },
  {
   "cell_type": "markdown",
   "metadata": {},
   "source": [
    "### 去重以及遍历，找出重复元素坐标"
   ]
  },
  {
   "cell_type": "code",
   "execution_count": 35,
   "metadata": {},
   "outputs": [],
   "source": [
    "def traversal(data_list):\n",
    "    data_np = np.array(data_list)\n",
    "    data_np_uniques = np.unique(data_np)\n",
    "    duplicated_data = []\n",
    "    for content in np.nditer(data_np_uniques):\n",
    "        duplicated_data_coordinate = np.argwhere(data_np == content)\n",
    "        if len(duplicated_data_coordinate) <= 1:\n",
    "            continue\n",
    "        duplicated_data.append({str(content): duplicated_data_coordinate})\n",
    "    return duplicated_data"
   ]
  },
  {
   "cell_type": "markdown",
   "metadata": {},
   "source": [
    "### 测试"
   ]
  },
  {
   "cell_type": "code",
   "execution_count": 36,
   "metadata": {},
   "outputs": [
    {
     "name": "stdout",
     "output_type": "stream",
     "text": [
      "{'a': 3}\n",
      "[{'a': array([[0, 0],\n",
      "       [1, 0],\n",
      "       [1, 2]])}]\n"
     ]
    }
   ],
   "source": [
    "if __name__ == \"__main__\":\n",
    "    data = [[\"a\",\"b\",\"c\"],[\"a\",\"d\",\"a\"]]\n",
    "    print(find_duplicate_data(data))\n",
    "    print(traversal(data))\n",
    "    "
   ]
  }
 ],
 "metadata": {
  "kernelspec": {
   "display_name": "Python 3.10.0 64-bit ('MyPythonCookBook')",
   "language": "python",
   "name": "python3"
  },
  "language_info": {
   "codemirror_mode": {
    "name": "ipython",
    "version": 3
   },
   "file_extension": ".py",
   "mimetype": "text/x-python",
   "name": "python",
   "nbconvert_exporter": "python",
   "pygments_lexer": "ipython3",
   "version": "3.10.0"
  },
  "orig_nbformat": 4,
  "vscode": {
   "interpreter": {
    "hash": "3fd94ad29e5972f241a5eb1cd557eb6db7e6ede88c59db58ac846d042ec14177"
   }
  }
 },
 "nbformat": 4,
 "nbformat_minor": 2
}
