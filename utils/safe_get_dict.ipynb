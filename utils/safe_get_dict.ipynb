{
 "cells": [
  {
   "cell_type": "markdown",
   "metadata": {},
   "source": [
    "# 放心取深度字典里的数据，不担心报错"
   ]
  },
  {
   "cell_type": "code",
   "execution_count": null,
   "metadata": {},
   "outputs": [],
   "source": [
    "from functools import reduce\n",
    "def deep_get(dictionary, keys, default=None):\n",
    "    return reduce(lambda d, key: d.get(key, default) if isinstance(d, dict) else default, keys.split(\".\"), dictionary)\n",
    "\n",
    "person = {'person':{'name':{'first':'John'}}}\n",
    "print(deep_get(person, \"person.name.first\"))    # John"
   ]
  }
 ],
 "metadata": {
  "kernelspec": {
   "display_name": "Python 3.10.0 64-bit ('MyPythonCookBook')",
   "language": "python",
   "name": "python3"
  },
  "language_info": {
   "codemirror_mode": {
    "name": "ipython",
    "version": 3
   },
   "file_extension": ".py",
   "mimetype": "text/x-python",
   "name": "python",
   "nbconvert_exporter": "python",
   "pygments_lexer": "ipython3",
   "version": "3.10.0"
  },
  "orig_nbformat": 4,
  "vscode": {
   "interpreter": {
    "hash": "3fd94ad29e5972f241a5eb1cd557eb6db7e6ede88c59db58ac846d042ec14177"
   }
  }
 },
 "nbformat": 4,
 "nbformat_minor": 2
}
